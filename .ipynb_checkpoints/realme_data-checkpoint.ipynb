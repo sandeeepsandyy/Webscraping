{
 "cells": [
  {
   "cell_type": "code",
   "execution_count": 2,
   "metadata": {},
   "outputs": [
    {
     "name": "stdout",
     "output_type": "stream",
     "text": [
      "Product: Realme 5i (Forest Green, 128 GB)\n",
      "Price: ₹10,999\n",
      "Product: Realme C3 (Blazing Red, 32 GB)\n",
      "Price: ₹7,499\n",
      "Product: Realme C3 (Frozen Blue, 32 GB)\n",
      "Price: ₹7,499\n",
      "Product: Realme 6 (Comet Blue, 64 GB)\n",
      "Price: ₹13,999\n",
      "Product: Realme 5i (Aqua Blue, 128 GB)\n",
      "Price: ₹10,999\n",
      "Product: Realme 5i (Forest Green, 64 GB)\n",
      "Price: ₹9,999\n",
      "Product: Realme 5i (Aqua Blue, 64 GB)\n",
      "Price: ₹9,999\n",
      "Product: Realme 5s (Crystal Blue, 64 GB)\n",
      "Price: ₹10,999\n",
      "Product: Realme 6 (Comet White, 64 GB)\n",
      "Price: ₹13,999\n",
      "Product: Realme C2 (Diamond Black, 32 GB)\n",
      "Price: ₹7,499\n",
      "Product: Realme C2 (Diamond Black, 32 GB)\n",
      "Price: ₹6,499\n",
      "Product: Realme C2 (Diamond Blue, 32 GB)\n",
      "Price: ₹6,499\n",
      "Product: Realme 5s (Crystal Purple, 64 GB)\n",
      "Price: ₹10,999\n",
      "Product: Realme 5s (Crystal Blue, 128 GB)\n",
      "Price: ₹11,999\n",
      "Product: Realme C3 (Frozen Blue, 64 GB)\n",
      "Price: ₹8,499\n",
      "Product: Realme 6 Pro (Lightning Blue, 64 GB)\n",
      "Price: ₹17,999\n",
      "Product: Realme C2 (Diamond Ruby, 32 GB)\n",
      "Price: ₹7,499\n",
      "Product: Realme 6 Pro (Lightning Blue, 128 GB)\n",
      "Price: ₹19,999\n",
      "Product: Realme 6 Pro (Lightning Blue, 128 GB)\n",
      "Price: ₹18,999\n",
      "Product: Realme 5 (Crystal Purple, 128 GB)\n",
      "Price: ₹11,999\n",
      "Product: Realme 5 (Crystal Purple, 32 GB)\n",
      "Price: ₹9,999\n",
      "Product: Realme 5 (Crystal Blue, 64 GB)\n",
      "Price: ₹10,999\n",
      "Product: Realme 5s (Crystal Red, 64 GB)\n",
      "Price: ₹10,999\n",
      "Product: Realme 6 (Comet Blue, 128 GB)\n",
      "Price: ₹15,999\n"
     ]
    }
   ],
   "source": [
    "from urllib.request import urlopen as uReq\n",
    "from bs4 import BeautifulSoup as soup\n",
    "\n",
    "my_url = 'https://www.flipkart.com/search?q=realme%20phones&otracker=search&otracker1=search&marketplace=FLIPKART&as-show=on&as=off'\n",
    "\n",
    "uClient2 = uReq(my_url)\n",
    "page_html = uClient2.read()\n",
    "uClient2.close()\n",
    "\n",
    "page_soup = soup(page_html, \"html.parser\")\n",
    "\n",
    "containers11 = page_soup.findAll(\"div\",{\"class\":\"_3O0U0u\"}) \n",
    "\n",
    "filename = \"Refrigerators.csv\"\n",
    "f = open(filename, \"w\", encoding='utf-8-sig')\n",
    "headers = \"Product, Price\\n\"\n",
    "f.write(headers)\n",
    "\n",
    "for container in containers11:\n",
    "\ttitle_container = container.findAll(\"div\",{\"class\":\"_3wU53n\"})\n",
    "\tproduct_name = title_container[0].text\n",
    "\n",
    "\tprice_con = container.findAll(\"div\",{\"class\":\"_1vC4OE _2rQ-NK\"})\n",
    "\ttry:\n",
    "\t\tprice = price_con[0].text\n",
    "\texcept:\n",
    "\t\tprice = 'No Data'\n",
    "\t\n",
    "\tprint(\"Product: \" + product_name)\n",
    "\tprint(\"Price: \" + price)\n",
    "\n",
    "\tf.write(product_name + \",\" + price.replace(\",\", \"|\") + \"\\n\")\n",
    "\n",
    "f.close()"
   ]
  },
  {
   "cell_type": "code",
   "execution_count": null,
   "metadata": {},
   "outputs": [],
   "source": []
  }
 ],
 "metadata": {
  "kernelspec": {
   "display_name": "Python 3",
   "language": "python",
   "name": "python3"
  },
  "language_info": {
   "codemirror_mode": {
    "name": "ipython",
    "version": 3
   },
   "file_extension": ".py",
   "mimetype": "text/x-python",
   "name": "python",
   "nbconvert_exporter": "python",
   "pygments_lexer": "ipython3",
   "version": "3.7.3"
  }
 },
 "nbformat": 4,
 "nbformat_minor": 2
}
